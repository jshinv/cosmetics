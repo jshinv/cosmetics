{
 "cells": [
  {
   "cell_type": "markdown",
   "metadata": {},
   "source": [
    "### 01. 모듈 import / AP몰 접속 / 오늘 하루 다시보지 않기 / brand name 검색"
   ]
  },
  {
   "cell_type": "code",
   "execution_count": 268,
   "metadata": {},
   "outputs": [],
   "source": [
    "########## 모듈 import ##########\n",
    "from selenium.webdriver.common.by import By\n",
    "from selenium.webdriver.support.ui import WebDriverWait\n",
    "from selenium.webdriver.support import expected_conditions as EC\n",
    "from selenium import webdriver as wd\n",
    "import time\n",
    "\n",
    "driver = wd.Chrome(executable_path='/Users/hyunginchoi/Desktop/com/python/chromedriver')\n",
    "\n",
    "\n",
    "\n",
    "########## url과 brand 설정 ##########\n",
    "ap_url = 'https://www.amorepacificmall.com'\n",
    "brand_name = '이니스프리'\n",
    "\n",
    "\n",
    "\n",
    "########## url 접속 후 brand name 검색 ##########\n",
    "driver.get(ap_url)\n",
    "\n",
    "driver.find_element_by_class_name('layer_close').click()\n",
    "\n",
    "driver.find_element_by_id('query_str').send_keys(brand_name)\n",
    "driver.find_element_by_class_name('btn_search').click()"
   ]
  },
  {
   "cell_type": "markdown",
   "metadata": {},
   "source": [
    "### 02. 제품 ID 리스트에 저장 / 페이지 이동 반복 / 페이지가 끝나면 except"
   ]
  },
  {
   "cell_type": "code",
   "execution_count": 231,
   "metadata": {
    "scrolled": true
   },
   "outputs": [
    {
     "name": "stdout",
     "output_type": "stream",
     "text": [
      "마지막 페이지입니다\n"
     ]
    }
   ],
   "source": [
    "obj_id = []\n",
    "try:\n",
    "    while True:\n",
    "        ########## 각 제품의 id get ##########\n",
    "        prd_cell = driver.find_elements_by_class_name('item.item-apply')\n",
    "        for prd in prd_cell:\n",
    "            obj_id.append(prd.find_element_by_css_selector('a').get_attribute('href')[-5:])\n",
    "        \n",
    "        \n",
    "        ########## 다음 페이지로 이동 ##########\n",
    "        driver.find_element_by_css_selector('span + a').click()\n",
    "        time.sleep(0.3)\n",
    "\n",
    "########## 다음 페이지가 없을 때 발생하는 에러 ##########\n",
    "except NoSuchElementException as e:\n",
    "    print('마지막 페이지입니다')"
   ]
  },
  {
   "cell_type": "markdown",
   "metadata": {},
   "source": [
    "### 03. 데이터 저장할 text file 생성"
   ]
  },
  {
   "cell_type": "code",
   "execution_count": 270,
   "metadata": {},
   "outputs": [],
   "source": [
    "prd_info = open(\"apmall_prd_info.txt\", \"a\")\n",
    "prd_reviews = open(\"apmall_prd_reviews.txt\", \"a\")"
   ]
  },
  {
   "cell_type": "markdown",
   "metadata": {},
   "source": [
    "### 04. 각 제품 url에 접속 / 정보 크롤링 / write"
   ]
  },
  {
   "cell_type": "code",
   "execution_count": null,
   "metadata": {},
   "outputs": [],
   "source": [
    "k = 1\n",
    "for i in obj_id:\n",
    "    ########## 얻은 제품 id로 각 제품 url에 접속 ##########\n",
    "    driver.get(ap_url + '/kr/ko/product/detail?onlineProdSn=' + i)\n",
    "    time.sleep(1)\n",
    "    \n",
    "    ########## name, price, review count, point ##########\n",
    "    prd_name = driver.find_element_by_class_name('product_name').text\n",
    "    prd_price = driver.find_element_by_class_name('product_price').find_element_by_class_name('num').text\n",
    "    review_count = driver.find_element_by_class_name('review.visibleReview').find_element_by_class_name('txt').text[3:]\n",
    "    point = driver.find_element_by_css_selector('div > div.detail_head > div > div.product_info > div.purchase_benefit > p').text\n",
    "    \n",
    "    shipping_btn = driver.find_element_by_css_selector('#ap_container > div > div.detail_head > div > div.product_info > div.purchase_benefit > div > dl:nth-child(1) > dt > button').click()\n",
    "    shipping = driver.find_element_by_css_selector('#ap_container > div > div.detail_head > div > div.product_info > div.purchase_benefit > div > dl:nth-child(1) > dd > div > p').text\n",
    "    \n",
    "    purchase_benefit_btn = driver.find_element_by_css_selector('#ap_container > div > div.detail_head > div > div.product_info > div.purchase_benefit > div > dl:nth-child(2) > dt > button').click()\n",
    "    purchase_benefits = driver.find_elements_by_css_selector('#ap_container > div > div.detail_head > div > div.product_info > div.purchase_benefit > div > dl:nth-child(2) > dd > div > ul > li')\n",
    "    benefit_total = ''\n",
    "    for benefit in purchase_benefits:\n",
    "        span = benefit.find_element_by_css_selector('span').text\n",
    "        em = '(' + benefit.find_element_by_css_selector('em').text + ')'\n",
    "        benefit_total += span + em + \" \"\n",
    "    \n",
    "\n",
    "    \n",
    "    ########## 모든 리뷰가 보일 때까지 '더보기' 클릭 ##########\n",
    "    review_click = driver.find_element_by_css_selector('#ap_container > div > div.detail_body.ui_tab.＠tabs-apply > div.tab_menu > ul > li:nth-child(2) > button').click()\n",
    "    try:\n",
    "        while True:\n",
    "            driver.find_element_by_class_name('btn_list_more').click()\n",
    "            time.sleep(1)\n",
    "    except:\n",
    "        print(\"-\")\n",
    "    \n",
    "    \n",
    "    ########## date, rating, user_id, text ##########\n",
    "    review_box = driver.find_elements_by_class_name('review_box')\n",
    "    j = 1\n",
    "    total_rating = 0\n",
    "    for review in review_box:\n",
    "        date = review.find_element_by_class_name('rating').find_element_by_class_name('date').text\n",
    "        rating = review.find_element_by_class_name('rating').find_element_by_css_selector('span:nth-child(1)').get_attribute('class')[-1]\n",
    "        user_id = review.find_element_by_class_name('name').text\n",
    "        text = review.find_element_by_class_name('ellipsis.line5').text\n",
    "        total_rating += int(rating)\n",
    "        prd_reviews.write(str(k) + \" | \" + str(j) + \" | \" + date + \" | \" + rating + \" | \" + user_id + \" | \" + text + \"\\n\")\n",
    "        j += 1\n",
    "    prd_reviews.write(\"\\n\")    \n",
    "    \n",
    "    if review_count == '0':\n",
    "        rating_avg = '0.00'\n",
    "    else:\n",
    "        rating_avg = str(\"%.2f\" % (total_rating / int(review_count)))\n",
    "    \n",
    "    prd_info.write(str(k) + \" | \" + prd_name + \" | \" + prd_price + \" | \" + rating_avg + \" | \" + point[:9] + \" | \" + shipping_cond[9:28] + \" | \" + benefit_total + \"\\n\")\n",
    "\n",
    "    k += 1\n",
    "    \n",
    "prd_info.close()\n",
    "prd_reviews.close()\n",
    "    "
   ]
  },
  {
   "cell_type": "code",
   "execution_count": 151,
   "metadata": {},
   "outputs": [],
   "source": [
    "driver.close()"
   ]
  }
 ],
 "metadata": {
  "kernelspec": {
   "display_name": "Python 3",
   "language": "python",
   "name": "python3"
  }
 },
 "nbformat": 4,
 "nbformat_minor": 2
}
