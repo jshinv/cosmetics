{
 "cells": [
  {
   "cell_type": "markdown",
   "metadata": {},
   "source": [
    "### 01. 모듈 import / AP몰 접속 / 오늘 하루 다시보지 않기 / brand name 검색"
   ]
  },
  {
   "cell_type": "code",
   "execution_count": null,
   "metadata": {},
   "outputs": [],
   "source": [
    "########## 모듈 import ##########\n",
    "from selenium.webdriver.common.by import By\n",
    "from selenium.webdriver.support.ui import WebDriverWait\n",
    "from selenium.webdriver.support import expected_conditions as EC\n",
    "from selenium import webdriver as wd\n",
    "import time\n",
    "from selenium.common.exceptions import NoSuchElementException, StaleElementReferenceException, ElementClickInterceptedException, ElementClickInterceptedException\n",
    "\n",
    "driver = wd.Chrome(executable_path='/Users/hyunginchoi/Desktop/com/python/chromedriver')\n",
    "\n",
    "\n",
    "\n",
    "########## url과 brand 설정 ##########\n",
    "ap_url = 'https://www.amorepacificmall.com'\n",
    "brand_name = '이니스프리'\n",
    "\n",
    "\n",
    "\n",
    "########## url 접속 후 brand name 검색 ##########\n",
    "driver.get(ap_url)\n",
    "\n",
    "driver.find_element_by_class_name('layer_close').click()\n",
    "\n",
    "driver.find_element_by_id('query_str').send_keys(brand_name)\n",
    "driver.find_element_by_class_name('btn_search').click()\n",
    "time.sleep(1)"
   ]
  },
  {
   "cell_type": "markdown",
   "metadata": {},
   "source": [
    "### 02. 제품 ID 리스트에 저장 / 페이지 이동 반복 / 페이지가 끝나면 except"
   ]
  },
  {
   "cell_type": "code",
   "execution_count": null,
   "metadata": {},
   "outputs": [],
   "source": [
    "obj_id = []\n",
    "\n",
    "try:\n",
    "    while True:\n",
    "        ########## 각 제품의 id get ##########\n",
    "        prd_cell = driver.find_elements_by_class_name('item.item-apply')\n",
    "        for prd in prd_cell:\n",
    "            prd_review_count = prd.find_element_by_class_name('user_atc').find_element_by_css_selector('span').get_attribute('class')[-1]\n",
    "            ########## 리뷰 개수가 0이 아닐 때에만 리스트에 append ##########\n",
    "            if prd_review_count != '0':\n",
    "                obj_id.append(prd.find_element_by_css_selector('a').get_attribute('href')[-5:])\n",
    "        \n",
    "        ########## 다음 페이지로 이동 ##########\n",
    "        driver.find_element_by_css_selector('span + a').click()\n",
    "        time.sleep(0.5)\n",
    "\n",
    "########## 다음 페이지가 없을 때 발생하는 에러 ##########\n",
    "except NoSuchElementException as e:\n",
    "    print('더이상 페이지가 없습니다')"
   ]
  },
  {
   "cell_type": "markdown",
   "metadata": {},
   "source": [
    "### 03. 데이터 저장할 text file 생성"
   ]
  },
  {
   "cell_type": "code",
   "execution_count": null,
   "metadata": {},
   "outputs": [],
   "source": [
    "prd_info = open(\"apmall_prd_info.txt\", \"w\")\n",
    "prd_reviews = open(\"apmall_prd_reviews.txt\", \"w\")"
   ]
  },
  {
   "cell_type": "markdown",
   "metadata": {},
   "source": [
    "### 04. 각 제품 url에 접속 / 정보 크롤링 / write"
   ]
  },
  {
   "cell_type": "code",
   "execution_count": null,
   "metadata": {},
   "outputs": [],
   "source": [
    "k = 1\n",
    "for i in obj_id:\n",
    "    \n",
    "    ########## 얻은 제품 id로 각 제품 url에 접속 ##########\n",
    "    driver.get(ap_url + '/kr/ko/product/detail?onlineProdSn=' + i)\n",
    "    time.sleep(0.5)\n",
    "    \n",
    "    ########## name, price, review count, point ##########\n",
    "    prd_name = driver.find_element_by_class_name('product_name').text\n",
    "    prd_price = driver.find_element_by_class_name('product_price').find_element_by_class_name('num').text\n",
    "    review_count = driver.find_element_by_class_name('review.visibleReview').find_element_by_class_name('txt').text[3:]\n",
    "    point = driver.find_element_by_css_selector('div > div.detail_head > div > div.product_info > div.purchase_benefit > p').text\n",
    "    \n",
    "    shipping_btn = driver.find_element_by_css_selector('#ap_container > div > div.detail_head > div > div.product_info > div.purchase_benefit > div > dl:nth-child(1) > dt > button').click()\n",
    "    time.sleep(0.1)\n",
    "    shipping = driver.find_element_by_css_selector('#ap_container > div > div.detail_head > div > div.product_info > div.purchase_benefit > div > dl:nth-child(1) > dd > div > p').text\n",
    "    \n",
    "    purchase_benefit_btn = driver.find_element_by_css_selector('#ap_container > div > div.detail_head > div > div.product_info > div.purchase_benefit > div > dl:nth-child(2) > dt > button').click()\n",
    "    time.sleep(0.1)\n",
    "    purchase_benefits = driver.find_elements_by_css_selector('#ap_container > div > div.detail_head > div > div.product_info > div.purchase_benefit > div > dl:nth-child(2) > dd > div > ul > li')\n",
    "    benefit_total = ''\n",
    "    for benefit in purchase_benefits:\n",
    "        span = benefit.find_element_by_css_selector('span').text\n",
    "        em = '(' + benefit.find_element_by_css_selector('em').text + ')'\n",
    "        benefit_total += span + em + \" \"\n",
    "   \n",
    "\n",
    "    ########## 리뷰 200개 이상이면 200으로 제한 ##########\n",
    "    if ',' in review_count or int(review_count) > 200:\n",
    "        review_count = '200'\n",
    "\n",
    "    else:\n",
    "        ########## 리뷰 200개가 보일 때까지 '더보기' 클릭 ##########\n",
    "        review_click = driver.find_element_by_css_selector('#ap_container > div > div.detail_body.ui_tab.＠tabs-apply > div.tab_menu > ul > li:nth-child(2) > button').click()\n",
    "        try:\n",
    "            if int(review_count) < 200:\n",
    "                while True:\n",
    "                    driver.find_element_by_class_name('btn_list_more').click()\n",
    "                    time.sleep(1)\n",
    "            else:\n",
    "                ########## 200개가 넘으면 더보기 버튼을 19번만 클릭 ##########\n",
    "                num = 0\n",
    "                while num < 20:\n",
    "                    driver.find_element_by_class_name('btn_list_more').click()\n",
    "                    time.sleep(1)\n",
    "                    num += 1\n",
    "        except:\n",
    "            pass\n",
    "\n",
    "\n",
    "        \n",
    "        ########## date, rating, user_id, text ##########\n",
    "        review_box = driver.find_elements_by_class_name('review_box')\n",
    "        j = 1\n",
    "        total_rating = 0\n",
    "        for review in review_box:\n",
    "            date = review.find_element_by_class_name('rating').find_element_by_class_name('date').text\n",
    "            rating = review.find_element_by_class_name('rating').find_element_by_css_selector('span:nth-child(1)').get_attribute('class')[-1]\n",
    "            user_id = review.find_element_by_class_name('name').text\n",
    "            text = review.find_element_by_class_name('ellipsis.line5').text\n",
    "            total_rating += int(rating)\n",
    "            prd_reviews.write(str(k) + \" | \" + str(j) + \" | \" + date + \" | \" + rating + \" | \" + user_id + \" | \" + text + \"\\n\")\n",
    "            j += 1\n",
    "        prd_reviews.write(\"\\n\")    \n",
    "        \n",
    "        ########## 리뷰 평균을 소수 둘째점 자리까지만 구하기 ##########\n",
    "        rating_avg = str(\"%.2f\" % (total_rating / int(review_count)))\n",
    "\n",
    "\n",
    "        prd_info.write(str(k) + \" | \" + prd_name + \" | \" + prd_price + \" | \" + review_count + \" | \" + rating_avg + \" | \" + point[:9] + \" | \" + shipping[9:28] + \" | \" + benefit_total + \"\\n\")\n",
    "        print(str(k) + \" 끝\")\n",
    "    k += 1"
   ]
  },
  {
   "cell_type": "markdown",
   "metadata": {},
   "source": [
    "### 05. driver 및 file close"
   ]
  },
  {
   "cell_type": "code",
   "execution_count": null,
   "metadata": {},
   "outputs": [],
   "source": [
    "prd_info.close()\n",
    "prd_reviews.close()\n",
    "driver.close()"
   ]
  }
 ],
 "metadata": {
  "kernelspec": {
   "display_name": "Python 3",
   "language": "python",
   "name": "python3"
  },
  "language_info": {
   "codemirror_mode": {
    "name": "ipython",
    "version": 3
   },
   "file_extension": ".py",
   "mimetype": "text/x-python",
   "name": "python",
   "nbconvert_exporter": "python",
   "pygments_lexer": "ipython3",
   "version": "3.7.4"
  }
 },
 "nbformat": 4,
 "nbformat_minor": 2
}
